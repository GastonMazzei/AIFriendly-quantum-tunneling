{
 "cells": [
  {
   "cell_type": "code",
   "execution_count": 14,
   "metadata": {},
   "outputs": [],
   "source": [
    "import numpy as np\n",
    "import pandas as pd\n",
    "\n",
    "\n",
    "from scipy.stats import bernoulli\n",
    "from sklearn.preprocessing import StandardScaler\n",
    "\n",
    "from keras.layers import Dense\n",
    "from keras.models import Sequential\n",
    "from keras.losses import categorical_crossentropy\n",
    "\n",
    "from tunnel_generator import *"
   ]
  },
  {
   "cell_type": "markdown",
   "metadata": {},
   "source": [
    "$$\\Delta \\Psi = (V_{(x)}+E)\\Psi$$\n",
    "\n",
    "![](../notebook-imgs/image1.png)\n",
    "![](../notebook-imgs/image2.png)\n",
    "![](../notebook-imgs/image3.png)"
   ]
  },
  {
   "cell_type": "code",
   "execution_count": 15,
   "metadata": {},
   "outputs": [],
   "source": [
    "def balanced_samples(d, partitions=4, **kwargs):\n",
    "    \"\"\"\n",
    "    kwargs: verbose=True\n",
    "    \"\"\"\n",
    "\n",
    "    # Shuffle and select the number of parts it \n",
    "    # will be split into\n",
    "    #\n",
    "    d = d.sample(frac=1)\n",
    "    p = 1/partitions\n",
    "    \n",
    "    # Define the number of samples per partition:\n",
    "    # equi-sampling will force us to select the \n",
    "    # occurrences of the less abundant\n",
    "    #\n",
    "    s = int(d.shape[0]/partitions)\n",
    "    for a in [x*p for x in range(partitions)]:\n",
    "        inner_s = sum(d.iloc[:,-1].apply(lambda x: round(x,1)).between(a,a+p))\n",
    "        if inner_s < s: s = inner_s\n",
    "    s = int(s)\n",
    "    if kwargs.get('verbose',True):\n",
    "        print(f'\\nBalancing samples:\\n{s} samples per bin with {partitions} bins '\\\n",
    "              f'will transform the {d.shape[0]}-points dataset\\ninto a '\\\n",
    "              f'{partitions*s}-points dataset!')\n",
    "    \n",
    "    # retrieve 's' items per class\n",
    "    #\n",
    "    data = []\n",
    "    for a in [x*p for x in range(partitions)]:\n",
    "        data += [d[d.iloc[:,-1].apply(lambda x: round(x,1)).between(a,a+p)].sample(frac=1).iloc[:s,:]]\n",
    "    if kwargs.get('verbose',True):\n",
    "        print('\\nDataset balanced successfully!\\n')\n",
    "    return pd.concat(data,0)"
   ]
  },
  {
   "cell_type": "code",
   "execution_count": 16,
   "metadata": {},
   "outputs": [],
   "source": [
    "def main(required_length = 15E3, vainilla = True):\n",
    "    df = pd.DataFrame()\n",
    "    count = 0\n",
    "    q = 0\n",
    "    while ((len(df)<required_length) and (count<10)):\n",
    "        print(f'\\nIteration {count}:\\nRequired Length: {required_length}\\n'\\\n",
    "             f'Current Length: {len(df)}\\n')\n",
    "        if vainilla: df = balanced_samples(generator(\n",
    "                                    50+q,\n",
    "                                    50+q,\n",
    "                                    50+q,\n",
    "                                    verbose=False),\n",
    "                                           5, verbose=False,)\n",
    "        else: df = generator(\n",
    "                            int(1+q/5),\n",
    "                            int(1+q/5),\n",
    "                            int(1+q/5),\n",
    "                            verbose=False)\n",
    "        count += 1\n",
    "        q += 5\n",
    "\n",
    "    if len(df)>=required_length: print('\\nSUCCESS! the required-length-condition WAS SATISFIED')\n",
    "    else: print('\\nFAILURE: the required-length-condition WAS NOT SATISFIED')\n",
    "    print(f'\\n\\nREQUIRED: {required_length}\\nACTUAL: {len(df)}')\n",
    "    return df"
   ]
  },
  {
   "cell_type": "code",
   "execution_count": 17,
   "metadata": {},
   "outputs": [
    {
     "name": "stdout",
     "output_type": "stream",
     "text": [
      "\n",
      "Iteration 0:\n",
      "Required Length: 10000\n",
      "Current Length: 0\n",
      "\n",
      "\n",
      "Iteration 1:\n",
      "Required Length: 10000\n",
      "Current Length: 0\n",
      "\n",
      "\n",
      "Iteration 2:\n",
      "Required Length: 10000\n",
      "Current Length: 4\n",
      "\n",
      "\n",
      "Iteration 3:\n",
      "Required Length: 10000\n",
      "Current Length: 18\n",
      "\n",
      "\n",
      "Iteration 4:\n",
      "Required Length: 10000\n",
      "Current Length: 48\n",
      "\n",
      "\n",
      "Iteration 5:\n",
      "Required Length: 10000\n",
      "Current Length: 100\n",
      "\n",
      "\n",
      "Iteration 6:\n",
      "Required Length: 10000\n",
      "Current Length: 180\n",
      "\n",
      "\n",
      "Iteration 7:\n",
      "Required Length: 10000\n",
      "Current Length: 287\n",
      "\n",
      "\n",
      "Iteration 8:\n",
      "Required Length: 10000\n",
      "Current Length: 432\n",
      "\n",
      "\n",
      "Iteration 9:\n",
      "Required Length: 10000\n",
      "Current Length: 621\n",
      "\n",
      "\n",
      "FAILURE: the required-length-condition WAS NOT SATISFIED\n",
      "\n",
      "\n",
      "REQUIRED: 10000\n",
      "ACTUAL: 860\n"
     ]
    }
   ],
   "source": [
    "df = main(10000, False)"
   ]
  },
  {
   "cell_type": "code",
   "execution_count": 19,
   "metadata": {},
   "outputs": [
    {
     "name": "stdout",
     "output_type": "stream",
     "text": [
      "        L          V    E     proba\n",
      "0  0.0001   5.644444  0.1  0.999998\n",
      "1  0.0001  11.188889  0.1  0.999994\n",
      "2  0.0001  16.733333  0.1  0.999986\n",
      "3  0.0001  22.277778  0.1  0.999975\n",
      "4  0.0001  27.822222  0.1  0.999961\n"
     ]
    }
   ],
   "source": [
    "print(df.head())\n",
    "df.to_csv('../databases/tunnel-effect-database.csv', index=False)"
   ]
  },
  {
   "cell_type": "code",
   "execution_count": null,
   "metadata": {},
   "outputs": [],
   "source": []
  }
 ],
 "metadata": {
  "kernelspec": {
   "display_name": "Python 3",
   "language": "python",
   "name": "python3"
  },
  "language_info": {
   "codemirror_mode": {
    "name": "ipython",
    "version": 3
   },
   "file_extension": ".py",
   "mimetype": "text/x-python",
   "name": "python",
   "nbconvert_exporter": "python",
   "pygments_lexer": "ipython3",
   "version": "3.7.6"
  }
 },
 "nbformat": 4,
 "nbformat_minor": 4
}
